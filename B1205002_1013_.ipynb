{
  "nbformat": 4,
  "nbformat_minor": 0,
  "metadata": {
    "colab": {
      "provenance": []
    },
    "kernelspec": {
      "name": "python3",
      "display_name": "Python 3"
    },
    "language_info": {
      "name": "python"
    }
  },
  "cells": [
    {
      "cell_type": "code",
      "execution_count": 5,
      "metadata": {
        "colab": {
          "base_uri": "https://localhost:8080/"
        },
        "id": "fFxFrrTJ5hm7",
        "outputId": "4882dcd3-f35e-4d35-e7d6-1d7f44c33c81"
      },
      "outputs": [
        {
          "output_type": "stream",
          "name": "stdout",
          "text": [
            "侯昕彤\n",
            "<class 'str'>\n",
            "B1205002\n",
            "<class 'str'>\n"
          ]
        }
      ],
      "source": [
        "x=\"侯昕彤\"\n",
        "y=\"B1205002\"\n",
        "print(x)\n",
        "print(type(x))\n",
        "print(y)\n",
        "print(type(y))\n",
        "\n"
      ]
    },
    {
      "cell_type": "code",
      "source": [
        "dict={\"name\":\"侯昕彤\",\"number\":\"B1205002\"}\n",
        "name=dict[\"name\"]\n",
        "number=dict[\"number\"]\n",
        "print(f\"name:{name},number:{number}\")"
      ],
      "metadata": {
        "colab": {
          "base_uri": "https://localhost:8080/"
        },
        "id": "su4L1lLA-2uW",
        "outputId": "698fccdd-bbb2-4f97-d1f6-d79d52cabf32"
      },
      "execution_count": 7,
      "outputs": [
        {
          "output_type": "stream",
          "name": "stdout",
          "text": [
            "name:侯昕彤,number:B1205002\n"
          ]
        }
      ]
    }
  ]
}